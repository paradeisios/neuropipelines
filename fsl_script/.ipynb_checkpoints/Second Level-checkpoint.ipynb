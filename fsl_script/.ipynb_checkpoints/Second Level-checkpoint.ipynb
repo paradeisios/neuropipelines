{
 "cells": [
  {
   "cell_type": "code",
   "execution_count": null,
   "id": "887378f8",
   "metadata": {},
   "outputs": [],
   "source": [
    "from nipype import Node, Workflow, IdentityInterface, Function, MapNode,SelectFiles, DataSink\n",
    "from nipype.interfaces import fsl\n",
    "from nipype.algorithms.modelgen import SpecifyModel\n",
    "import numpy as np\n",
    "import os"
   ]
  },
  {
   "cell_type": "code",
   "execution_count": null,
   "id": "b78ac1ae",
   "metadata": {},
   "outputs": [],
   "source": [
    "def sort_inputs(copes,varcopes,num_of_runs):\n",
    "    \n",
    "    copes.sort(key = lambda x: x.split(\"/\")[-1])\n",
    "    cope_list =  [copes[i:i + num_of_runs] for i in range(0, len(copes), num_of_runs)] \n",
    "\n",
    "    varcopes.sort(key = lambda x: x.split(\"/\")[-1])\n",
    "    varcope_list =  [varcopes[i:i + num_of_runs] for i in range(0, len(varcopes), num_of_runs)] \n",
    "    \n",
    "    return cope_list,varcope_list"
   ]
  },
  {
   "cell_type": "code",
   "execution_count": null,
   "id": "d404b7d0",
   "metadata": {},
   "outputs": [],
   "source": [
    "data = \"/media/paradeisios/UUI/fmri/flanker/output/first_level\"\n",
    "output = \"/media/paradeisios/UUI/fmri/flanker/output/second_level\"\n",
    "mask_file = \"/home/paradeisios/fsl/data/standard/MNI152_T1_2mm_brain_mask.nii.gz\"\n",
    "\n",
    "num_of_subjects = 26\n",
    "num_of_runs = 2\n",
    "\n",
    "subject_list = [\"{:02d}\".format(i) for i in range(1,num_of_subjects+1)]"
   ]
  },
  {
   "cell_type": "code",
   "execution_count": null,
   "id": "35456585",
   "metadata": {},
   "outputs": [],
   "source": [
    "infosource = Node(IdentityInterface(fields=[\"subject_list\"]), name=\"infosource\")\n",
    "infosource.iterables = [('subject_list', subject_list)]"
   ]
  },
  {
   "cell_type": "code",
   "execution_count": null,
   "id": "4d76e400",
   "metadata": {},
   "outputs": [],
   "source": [
    "templates = {\"copes\":     \"modelestimate/{subject_list}/modelestimate_run_*/cope*.nii.gz\",\n",
    "             \"varcopes\":  \"modelestimate/{subject_list}/modelestimate_run_*/varcope*.nii.gz\",\n",
    "             \"dof_files\" : \"modelestimate/{subject_list}/modelestimate_run_*/dof\"}\n",
    "\n",
    "selectfiles = Node(SelectFiles(templates),name=\"selectfiles\")\n",
    "selectfiles.inputs.base_directory = data"
   ]
  },
  {
   "cell_type": "code",
   "execution_count": null,
   "id": "1fd884b3",
   "metadata": {},
   "outputs": [],
   "source": [
    "substitutions = []\n",
    "substitutions += [(\"_subject_list_{:02d}\".format(i), \"{:02d}\".format(i)) for i in range(1,num_of_subjects+1)]\n",
    "substitutions += [(\"_fixed_eff_model{:d}\".format(i), \"fixed_eff_model_{:d}\".format(i+1)) for i in range(0,num_of_subjects+1)]\n",
    "substitutions += [(\"_copemerge\", \"copemerge\")]\n",
    "substitutions += [(\"_varcopemerge\", \"varcopemerge\")]\n",
    "datasink = Node(DataSink(base_directory=output),name=\"datasink\")\n",
    "datasink.inputs.substitutions = substitutions\n",
    "datasink.output = output"
   ]
  },
  {
   "cell_type": "code",
   "execution_count": null,
   "id": "aefb1943",
   "metadata": {},
   "outputs": [],
   "source": [
    "sort_copes_varcopes = Node(Function(input_names=[\"copes\",\"varcopes\",\"num_of_runs\"],\n",
    "                                  output_names=[\"cope_list\",\"varcope_list\"],\n",
    "                                  function=sort_inputs),\n",
    "                                  name='sort_copes_varcopes')\n",
    "\n",
    "sort_copes_varcopes.inputs.num_of_runs = num_of_runs"
   ]
  },
  {
   "cell_type": "code",
   "execution_count": null,
   "id": "1f951bb4",
   "metadata": {},
   "outputs": [],
   "source": [
    "copemerge = MapNode(fsl.Merge(),iterfield=['in_files'],name=\"copemerge\")\n",
    "copemerge.inputs.dimension = \"t\"\n",
    "\n",
    "varcopemerge = MapNode(fsl.Merge(),iterfield=['in_files'],name=\"varcopemerge\")\n",
    "varcopemerge.inputs.dimension = \"t\"\n",
    "\n",
    "level2model = Node(interface=fsl.L2Model(), name='l2model')\n",
    "level2model.inputs.num_copes = num_of_runs\n",
    "\n",
    "fixed_eff_model = MapNode(interface=fsl.FLAMEO(),name=\"fixed_eff_model\",iterfield=['cope_file', 'var_cope_file'])\n",
    "fixed_eff_model.inputs.run_mode='fe'\n",
    "fixed_eff_model.inputs.mask_file= mask_file"
   ]
  },
  {
   "cell_type": "code",
   "execution_count": null,
   "id": "dfe850f5",
   "metadata": {},
   "outputs": [],
   "source": [
    "fixed_effects_analysis = Workflow(name=\"fixed_effects_analysis\")\n",
    "\n",
    "fixed_effects_analysis.connect(infosource,\"subject_list\",datasink,\"container\")\n",
    "fixed_effects_analysis.connect(infosource,\"subject_list\",selectfiles,\"subject_list\")\n",
    "fixed_effects_analysis.connect(selectfiles,\"copes\",sort_copes_varcopes,\"copes\")\n",
    "fixed_effects_analysis.connect(selectfiles,\"varcopes\",sort_copes_varcopes,\"varcopes\")\n",
    "\n",
    "fixed_effects_analysis.connect(sort_copes_varcopes,\"cope_list\",copemerge,\"in_files\")\n",
    "fixed_effects_analysis.connect(sort_copes_varcopes,\"varcope_list\",varcopemerge,\"in_files\")\n",
    "\n",
    "fixed_effects_analysis.connect(copemerge,\"merged_file\",fixed_eff_model,\"cope_file\")\n",
    "fixed_effects_analysis.connect(varcopemerge,\"merged_file\",fixed_eff_model,\"var_cope_file\")\n",
    "\n",
    "    \n",
    "fixed_effects_analysis.connect(level2model,\"design_mat\",fixed_eff_model,\"design_file\")   \n",
    "fixed_effects_analysis.connect(level2model,\"design_con\",fixed_eff_model,\"t_con_file\") \n",
    "fixed_effects_analysis.connect(level2model,\"design_grp\",fixed_eff_model,\"cov_split_file\") "
   ]
  },
  {
   "cell_type": "code",
   "execution_count": null,
   "id": "9428e102",
   "metadata": {},
   "outputs": [],
   "source": [
    "fixed_effects_analysis.write_graph(graph2use='flat', format='png', simple_form=True,\n",
    "                          dotfilename= os.path.join(output,\"fixed_effects_analysis_workflow.dot\"))"
   ]
  },
  {
   "cell_type": "code",
   "execution_count": null,
   "id": "af2be3c9",
   "metadata": {},
   "outputs": [],
   "source": [
    "fixed_effects_analysis.connect(selectfiles,\"copes\",datasink,\"copes\")\n",
    "fixed_effects_analysis.connect(selectfiles,\"varcopes\",datasink,\"varcopes\")\n",
    "fixed_effects_analysis.connect(selectfiles,\"dof_files\",datasink,\"dof_files\")\n",
    "\n",
    "fixed_effects_analysis.connect(copemerge,\"merged_file\",datasink,\"merge.@merged_cope_file\")\n",
    "fixed_effects_analysis.connect(varcopemerge,\"merged_file\",datasink,\"merge.@merged_varcope_file\")\n",
    "\n",
    "fixed_effects_analysis.connect(level2model,\"design_mat\",datasink,\"model.@design_mat\")\n",
    "\n",
    "fixed_effects_analysis.connect(fixed_eff_model,\"copes\",datasink,\"fixed_effects.@copes\")\n",
    "fixed_effects_analysis.connect(fixed_eff_model,\"var_copes\",datasink,\"fixed_effects.@var_copes\")\n",
    "fixed_effects_analysis.connect(fixed_eff_model,\"weights\",datasink,\"fixed_effects.@weights\")\n",
    "fixed_effects_analysis.connect(fixed_eff_model,\"zstats\",datasink,\"fixed_effects.@zstats\")\n",
    "fixed_effects_analysis.connect(fixed_eff_model,\"res4d\",datasink,\"fixed_effects.@res4d\")\n",
    "fixed_effects_analysis.connect(fixed_eff_model,\"tstats\",datasink,\"fixed_effects.@tstats\")"
   ]
  },
  {
   "cell_type": "code",
   "execution_count": null,
   "id": "9930eed1",
   "metadata": {},
   "outputs": [],
   "source": [
    "fixed_effects_analysis.run(plugin='MultiProc', plugin_args={'n_procs' : 1})"
   ]
  },
  {
   "cell_type": "code",
   "execution_count": null,
   "id": "522f5e58",
   "metadata": {},
   "outputs": [],
   "source": []
  }
 ],
 "metadata": {
  "kernelspec": {
   "display_name": "Python 3",
   "language": "python",
   "name": "python3"
  },
  "language_info": {
   "codemirror_mode": {
    "name": "ipython",
    "version": 3
   },
   "file_extension": ".py",
   "mimetype": "text/x-python",
   "name": "python",
   "nbconvert_exporter": "python",
   "pygments_lexer": "ipython3",
   "version": "3.8.8"
  }
 },
 "nbformat": 4,
 "nbformat_minor": 5
}
