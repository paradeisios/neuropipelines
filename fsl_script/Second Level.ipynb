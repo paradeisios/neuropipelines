{
 "cells": [
  {
   "cell_type": "code",
   "execution_count": 6,
   "id": "887378f8",
   "metadata": {},
   "outputs": [],
   "source": [
    "from nipype import Node, Workflow, IdentityInterface, Function, MapNode,SelectFiles, DataSink\n",
    "from nipype.interfaces import fsl\n",
    "from nipype.algorithms.modelgen import SpecifyModel\n",
    "import numpy as np\n",
    "import os"
   ]
  },
  {
   "cell_type": "code",
   "execution_count": 36,
   "id": "b78ac1ae",
   "metadata": {},
   "outputs": [],
   "source": [
    "def sort_inputs(copes,varcopes,num_of_contrasts):\n",
    "    \n",
    "    copes.sort(key = lambda x: x.split(\"/\")[-1])\n",
    "    cope_list =  [copes[i:i + num_of_runs] for i in range(0, len(copes), num_of_runs)] \n",
    "\n",
    "    varcopes.sort(key = lambda x: x.split(\"/\")[-1])\n",
    "    varcope_list =  [varcopes[i:i + num_of_runs] for i in range(0, len(varcopes), num_of_runs)] \n",
    "    \n",
    "    return cope_list,varcope_list\n",
    "    "
   ]
  },
  {
   "cell_type": "code",
   "execution_count": 7,
   "id": "d404b7d0",
   "metadata": {},
   "outputs": [],
   "source": [
    "data = \"/home/paradeisios/Desktop/nipype_output/first_level/\"\n",
    "output = \"/home/paradeisios/Desktop/nipype_output/second_level/\"\n",
    "\n",
    "num_of_subjects = 1\n",
    "num_of_runs = 2\n",
    "\n",
    "subject_list = [\"{:02d}\".format(i) for i in range(1,num_of_subjects+1)]"
   ]
  },
  {
   "cell_type": "code",
   "execution_count": 8,
   "id": "35456585",
   "metadata": {},
   "outputs": [],
   "source": [
    "infosource = Node(IdentityInterface(fields=[\"subject_list\"]), name=\"infosource\")\n",
    "infosource.iterables = [('subject_list', subject_list)]"
   ]
  },
  {
   "cell_type": "code",
   "execution_count": 9,
   "id": "4d76e400",
   "metadata": {},
   "outputs": [],
   "source": [
    "templates = {\"copes\":     \"modelestimate/{subject_list}/modelestimate_run_*/cope*.nii.gz\",\n",
    "             \"varcopes\":  \"modelestimate/{subject_list}/modelestimate_run_*/varcope*.nii.gz\",\n",
    "             \"dof_file\" : \"modelestimate/{subject_list}/modelestimate_run_*/dof\"}\n",
    "\n",
    "selectfiles = Node(SelectFiles(templates),name=\"selectfiles\")\n",
    "selectfiles.inputs.base_directory = data"
   ]
  },
  {
   "cell_type": "code",
   "execution_count": 37,
   "id": "aefb1943",
   "metadata": {},
   "outputs": [],
   "source": [
    "sort_copes_varcopes = MapNode(Function(input_names=[\"copes\",\"varcopes\",\"num_of_contrasts\"],\n",
    "                                  output_names=[\"cope_list\",\"varcope_list\"],\n",
    "                                  function=sort_inputs),\n",
    "                                  iterfield = [\"copes\",\"varcopes\"],\n",
    "                                  name='sort_copes_varcopes')\n",
    "\n",
    "sort_copes_varcopes.inputs.num_of_contrasts = num_of_contrasts"
   ]
  },
  {
   "cell_type": "code",
   "execution_count": 13,
   "id": "1f951bb4",
   "metadata": {},
   "outputs": [
    {
     "name": "stdout",
     "output_type": "stream",
     "text": [
      "210806-02:38:08,397 nipype.workflow INFO:\n",
      "\t [Node] Setting-up \"selectfiles\" in \"/tmp/tmpmwmzuxaa/selectfiles\".\n",
      "210806-02:38:08,403 nipype.workflow INFO:\n",
      "\t [Node] Running \"selectfiles\" (\"nipype.interfaces.io.SelectFiles\")\n",
      "210806-02:38:08,410 nipype.workflow INFO:\n",
      "\t [Node] Finished \"selectfiles\".\n"
     ]
    },
    {
     "data": {
      "text/plain": [
       "\n",
       "copes = ['/home/paradeisios/Desktop/nipype_output/first_level/modelestimate/01/modelestimate_run_1/cope1.nii.gz', '/home/paradeisios/Desktop/nipype_output/first_level/modelestimate/01/modelestimate_run_1/cope2.nii.gz', '/home/paradeisios/Desktop/nipype_output/first_level/modelestimate/01/modelestimate_run_1/cope3.nii.gz', '/home/paradeisios/Desktop/nipype_output/first_level/modelestimate/01/modelestimate_run_1/cope4.nii.gz', '/home/paradeisios/Desktop/nipype_output/first_level/modelestimate/01/modelestimate_run_2/cope1.nii.gz', '/home/paradeisios/Desktop/nipype_output/first_level/modelestimate/01/modelestimate_run_2/cope2.nii.gz', '/home/paradeisios/Desktop/nipype_output/first_level/modelestimate/01/modelestimate_run_2/cope3.nii.gz', '/home/paradeisios/Desktop/nipype_output/first_level/modelestimate/01/modelestimate_run_2/cope4.nii.gz']\n",
       "dof_file = ['/home/paradeisios/Desktop/nipype_output/first_level/modelestimate/01/modelestimate_run_1/dof', '/home/paradeisios/Desktop/nipype_output/first_level/modelestimate/01/modelestimate_run_2/dof']\n",
       "varcopes = ['/home/paradeisios/Desktop/nipype_output/first_level/modelestimate/01/modelestimate_run_1/varcope1.nii.gz', '/home/paradeisios/Desktop/nipype_output/first_level/modelestimate/01/modelestimate_run_1/varcope2.nii.gz', '/home/paradeisios/Desktop/nipype_output/first_level/modelestimate/01/modelestimate_run_1/varcope3.nii.gz', '/home/paradeisios/Desktop/nipype_output/first_level/modelestimate/01/modelestimate_run_1/varcope4.nii.gz', '/home/paradeisios/Desktop/nipype_output/first_level/modelestimate/01/modelestimate_run_2/varcope1.nii.gz', '/home/paradeisios/Desktop/nipype_output/first_level/modelestimate/01/modelestimate_run_2/varcope2.nii.gz', '/home/paradeisios/Desktop/nipype_output/first_level/modelestimate/01/modelestimate_run_2/varcope3.nii.gz', '/home/paradeisios/Desktop/nipype_output/first_level/modelestimate/01/modelestimate_run_2/varcope4.nii.gz']"
      ]
     },
     "execution_count": 13,
     "metadata": {},
     "output_type": "execute_result"
    }
   ],
   "source": []
  },
  {
   "cell_type": "code",
   "execution_count": 32,
   "id": "dfe850f5",
   "metadata": {},
   "outputs": [],
   "source": []
  },
  {
   "cell_type": "code",
   "execution_count": 34,
   "id": "9428e102",
   "metadata": {},
   "outputs": [],
   "source": [
    "def sort_second_level_inputs(copes,varcopes,num_of_contrasts):\n",
    "    \n",
    "    copes.sort(key = lambda x: x.split(\"/\")[-1])\n",
    "    cope_list =  [copes[i:i + num_of_runs] for i in range(0, len(copes), num_of_runs)] \n",
    "\n",
    "    varcopes.sort(key = lambda x: x.split(\"/\")[-1])\n",
    "    varcope_list =  [varcopes[i:i + num_of_runs] for i in range(0, len(varcopes), num_of_runs)] \n",
    "    \n",
    "    return cope_list,varcope_list\n",
    "    "
   ]
  },
  {
   "cell_type": "code",
   "execution_count": null,
   "id": "4284bcb5",
   "metadata": {},
   "outputs": [],
   "source": []
  }
 ],
 "metadata": {
  "kernelspec": {
   "display_name": "Python 3",
   "language": "python",
   "name": "python3"
  },
  "language_info": {
   "codemirror_mode": {
    "name": "ipython",
    "version": 3
   },
   "file_extension": ".py",
   "mimetype": "text/x-python",
   "name": "python",
   "nbconvert_exporter": "python",
   "pygments_lexer": "ipython3",
   "version": "3.8.8"
  }
 },
 "nbformat": 4,
 "nbformat_minor": 5
}
